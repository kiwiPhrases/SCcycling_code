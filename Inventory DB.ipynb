{
 "cells": [
  {
   "cell_type": "code",
   "execution_count": 1,
   "metadata": {},
   "outputs": [],
   "source": [
    "import pandas as pd\n",
    "import numpy as np\n",
    "import re\n",
    "import time\n",
    "\n",
    "# database interface\n",
    "import sqlite3\n",
    "\n",
    "data_path = \"C:/Users/SpiffyApple/Documents/USC/Clubs/Cycling\""
   ]
  },
  {
   "cell_type": "markdown",
   "metadata": {},
   "source": [
    "# Dump current inventory list to a database \n",
    "\n",
    "Original file (Current assests.xlsx) is from our Google Drive"
   ]
  },
  {
   "cell_type": "markdown",
   "metadata": {},
   "source": [
    "## read the data"
   ]
  },
  {
   "cell_type": "code",
   "execution_count": 2,
   "metadata": {},
   "outputs": [],
   "source": [
    "df = pd.read_excel('/'.join([data_path, 'current assets_ver2.xlsx']), header=1)"
   ]
  },
  {
   "cell_type": "markdown",
   "metadata": {},
   "source": [
    "## clean and format"
   ]
  },
  {
   "cell_type": "code",
   "execution_count": 3,
   "metadata": {},
   "outputs": [],
   "source": [
    "# clean prices up\n",
    "df.loc[:,'price'] = df.price.astype('str').str.replace('\\$*','')"
   ]
  },
  {
   "cell_type": "code",
   "execution_count": 4,
   "metadata": {},
   "outputs": [],
   "source": [
    "# get genders\n",
    "df.loc[:,'gender'] = ''\n",
    "df.loc[df.Item.astype('str').str.lower().str.contains(\" m$\"),'gender'] = 'male'\n",
    "df.loc[df.Item.astype('str').str.lower().str.contains(\" w|women\"),'gender'] = 'women'\n",
    "\n",
    "df.loc[:,'MTB'] = df.Item.str.contains('MTB')\n",
    "\n",
    "# get retail and team prices\n",
    "df.loc[:,'retail_price'] = df.price.str.extract('(\\d+)',expand=False).astype('float')\n",
    "teamPrice = df.price.str.contains('\\(|\\)')\n",
    "\n",
    "df.loc[:,'team_price'] = df.loc[:,'retail_price']\n",
    "df.loc[teamPrice,'team_price'] = df.loc[teamPrice,'price'].str.extract('\\((\\d+)[\\w\\s]+',expand=False).astype('float')\n",
    "\n",
    "# team discount\n",
    "df.loc[:,'team_discount'] = df.team_price<df.retail_price\n",
    "\n",
    "# get items not for sale\n",
    "df.loc[:,'not4sale'] = df.retail_price.isnull()"
   ]
  },
  {
   "cell_type": "code",
   "execution_count": 5,
   "metadata": {},
   "outputs": [],
   "source": [
    "# fetch item types\n",
    "df.loc[:,'item_type'] = ''\n",
    "\n",
    "searchStrings = ['jacket','v neck|shirt|tee','jersey','bib|short','hoodie','vest','set','bag','bottle','pedals','stickers','socks','warmers','cad10','gloves','cap']\n",
    "itemType = ['jacket','tshirt','jersey','bibs','hoodie','vest','wheels','bag','water bottle','pedals','stickers','socks','armwarmers','bike','gloves','cap']\n",
    "\n",
    "for s,i in zip(searchStrings,itemType):\n",
    "    sub = df.loc[:,'Item'].astype('str').str.lower().str.contains(s)\n",
    "    df.loc[sub,'item_type'] = i"
   ]
  },
  {
   "cell_type": "markdown",
   "metadata": {},
   "source": [
    "## Figure out sizes"
   ]
  },
  {
   "cell_type": "code",
   "execution_count": 6,
   "metadata": {},
   "outputs": [],
   "source": [
    "# figure out sizes\n",
    "sizeCols = ['XXS','XS','S','M','L','XL','XXL','XXXL']\n",
    "df.loc[:,sizeCols] = df.loc[:,sizeCols].replace(np.nan,0)"
   ]
  },
  {
   "cell_type": "code",
   "execution_count": 7,
   "metadata": {},
   "outputs": [],
   "source": [
    "inventory = df.loc[:,sizeCols].astype('str').apply(lambda s: s.str.replace('\\s','').str.lower().str.replace(\"\\(\\d\\)|scrow|jude|\\+\",'').str.strip(), axis=1).replace(\"\",0).astype('float').astype('int')\n",
    "coming = df.loc[:,sizeCols].astype('str').apply(lambda s: s.str.extract('\\((\\d)',expand=False).str.strip(), axis=1).replace(np.nan,0).astype('int')"
   ]
  },
  {
   "cell_type": "code",
   "execution_count": 8,
   "metadata": {},
   "outputs": [],
   "source": [
    "# temp for work check\n",
    "assets = pd.concat([df,inventory,coming],keys = ['original','onhand','coming'],axis=1)\n",
    "assets.to_csv(\"/\".join([data_path, 'assets.csv']))"
   ]
  },
  {
   "cell_type": "code",
   "execution_count": 9,
   "metadata": {},
   "outputs": [],
   "source": [
    "df.loc[:,'en_route'] = (coming>0).any(axis=1)\n",
    "\n",
    "# replace sizes with clean inventory\n",
    "df.loc[:,sizeCols] = inventory"
   ]
  },
  {
   "cell_type": "code",
   "execution_count": 10,
   "metadata": {},
   "outputs": [],
   "source": [
    "# fill in missing counts\n",
    "df.loc[df['count'].isnull(),'count'] = inventory.loc[:,:].sum(axis=1).loc[df['count'].isnull()]"
   ]
  },
  {
   "cell_type": "markdown",
   "metadata": {},
   "source": [
    "## Dump to database"
   ]
  },
  {
   "cell_type": "code",
   "execution_count": 11,
   "metadata": {},
   "outputs": [],
   "source": [
    "dbname = \"cycling_club_assets.db\"\n",
    "data_path = \"/\".join([data_path, 'sccycling_code'])\n",
    "tableName = 'assets'\n",
    "conn =  sqlite3.connect(\"/\".join([data_path, dbname]))"
   ]
  },
  {
   "cell_type": "code",
   "execution_count": 12,
   "metadata": {},
   "outputs": [],
   "source": [
    "df.loc[:,'itemID'] = np.arange(df.shape[0])"
   ]
  },
  {
   "cell_type": "code",
   "execution_count": 13,
   "metadata": {},
   "outputs": [],
   "source": [
    "# drop main inventory file\n",
    "df.drop(['price'],axis=1).reset_index(drop=True).to_sql(tableName,conn, index=False)"
   ]
  },
  {
   "cell_type": "code",
   "execution_count": 14,
   "metadata": {},
   "outputs": [],
   "source": [
    "# stuff that's forthcoming\n",
    "\n",
    "### anything that's coming?\n",
    "coming.loc[:,'anySize'] = (coming.sum(axis=1)>0)\n",
    "\n",
    "### link inventory to coming items\n",
    "coming.loc[:,'itemID'] = df.loc[:,'itemID']\n",
    "coming.loc[:,'Item'] = df.loc[:,'Item']\n",
    "\n",
    "### dump to sqlite\n",
    "coming.loc[coming.anySize>0].to_sql('enRoute',conn, index=False)"
   ]
  },
  {
   "cell_type": "code",
   "execution_count": 15,
   "metadata": {},
   "outputs": [],
   "source": [
    "# create view between coming and inventory\n",
    "#cur = conn.cursor()\n",
    "#cur.execute(\"CREATE VIEW assets_all AS SELECT * FROM assets INNER JOIN enRoute USING(itemID);\")\n",
    "#conn.commit()"
   ]
  },
  {
   "cell_type": "markdown",
   "metadata": {},
   "source": [
    "## Tests"
   ]
  },
  {
   "cell_type": "code",
   "execution_count": 16,
   "metadata": {},
   "outputs": [
    {
     "data": {
      "text/html": [
       "<div>\n",
       "<style scoped>\n",
       "    .dataframe tbody tr th:only-of-type {\n",
       "        vertical-align: middle;\n",
       "    }\n",
       "\n",
       "    .dataframe tbody tr th {\n",
       "        vertical-align: top;\n",
       "    }\n",
       "\n",
       "    .dataframe thead th {\n",
       "        text-align: right;\n",
       "    }\n",
       "</style>\n",
       "<table border=\"1\" class=\"dataframe\">\n",
       "  <thead>\n",
       "    <tr style=\"text-align: right;\">\n",
       "      <th></th>\n",
       "      <th>Item</th>\n",
       "      <th>Description</th>\n",
       "      <th>count</th>\n",
       "      <th>XXS</th>\n",
       "      <th>XS</th>\n",
       "      <th>S</th>\n",
       "      <th>M</th>\n",
       "      <th>L</th>\n",
       "      <th>XL</th>\n",
       "      <th>XXL</th>\n",
       "      <th>XXXL</th>\n",
       "      <th>gender</th>\n",
       "      <th>MTB</th>\n",
       "      <th>retail_price</th>\n",
       "      <th>team_price</th>\n",
       "      <th>team_discount</th>\n",
       "      <th>not4sale</th>\n",
       "      <th>item_type</th>\n",
       "      <th>en_route</th>\n",
       "      <th>itemID</th>\n",
       "    </tr>\n",
       "  </thead>\n",
       "  <tbody>\n",
       "    <tr>\n",
       "      <th>0</th>\n",
       "      <td>2019 Pedal Mafia Core bib M</td>\n",
       "      <td>None</td>\n",
       "      <td>1.0</td>\n",
       "      <td>0</td>\n",
       "      <td>0</td>\n",
       "      <td>0</td>\n",
       "      <td>1</td>\n",
       "      <td>0</td>\n",
       "      <td>0</td>\n",
       "      <td>0</td>\n",
       "      <td>0</td>\n",
       "      <td>male</td>\n",
       "      <td>0</td>\n",
       "      <td>130.0</td>\n",
       "      <td>72.0</td>\n",
       "      <td>1</td>\n",
       "      <td>0</td>\n",
       "      <td>bibs</td>\n",
       "      <td>1</td>\n",
       "      <td>8</td>\n",
       "    </tr>\n",
       "    <tr>\n",
       "      <th>1</th>\n",
       "      <td>2019 Pedal Mafia Tech bib M</td>\n",
       "      <td>None</td>\n",
       "      <td>1.0</td>\n",
       "      <td>0</td>\n",
       "      <td>0</td>\n",
       "      <td>1</td>\n",
       "      <td>0</td>\n",
       "      <td>0</td>\n",
       "      <td>0</td>\n",
       "      <td>0</td>\n",
       "      <td>0</td>\n",
       "      <td>male</td>\n",
       "      <td>0</td>\n",
       "      <td>140.0</td>\n",
       "      <td>105.0</td>\n",
       "      <td>1</td>\n",
       "      <td>0</td>\n",
       "      <td>bibs</td>\n",
       "      <td>1</td>\n",
       "      <td>9</td>\n",
       "    </tr>\n",
       "    <tr>\n",
       "      <th>2</th>\n",
       "      <td>2018 Castelli training bib M</td>\n",
       "      <td>None</td>\n",
       "      <td>0.0</td>\n",
       "      <td>0</td>\n",
       "      <td>0</td>\n",
       "      <td>0</td>\n",
       "      <td>0</td>\n",
       "      <td>0</td>\n",
       "      <td>0</td>\n",
       "      <td>0</td>\n",
       "      <td>0</td>\n",
       "      <td>male</td>\n",
       "      <td>0</td>\n",
       "      <td>130.0</td>\n",
       "      <td>79.0</td>\n",
       "      <td>1</td>\n",
       "      <td>0</td>\n",
       "      <td>bibs</td>\n",
       "      <td>0</td>\n",
       "      <td>19</td>\n",
       "    </tr>\n",
       "    <tr>\n",
       "      <th>3</th>\n",
       "      <td>2018 Castelli aero bib M</td>\n",
       "      <td>None</td>\n",
       "      <td>2.0</td>\n",
       "      <td>0</td>\n",
       "      <td>0</td>\n",
       "      <td>1</td>\n",
       "      <td>0</td>\n",
       "      <td>0</td>\n",
       "      <td>0</td>\n",
       "      <td>1</td>\n",
       "      <td>0</td>\n",
       "      <td>male</td>\n",
       "      <td>0</td>\n",
       "      <td>140.0</td>\n",
       "      <td>110.0</td>\n",
       "      <td>1</td>\n",
       "      <td>0</td>\n",
       "      <td>bibs</td>\n",
       "      <td>0</td>\n",
       "      <td>20</td>\n",
       "    </tr>\n",
       "  </tbody>\n",
       "</table>\n",
       "</div>"
      ],
      "text/plain": [
       "                           Item Description  count  XXS  XS  S  M  L  XL  XXL  \\\n",
       "0   2019 Pedal Mafia Core bib M        None    1.0    0   0  0  1  0   0    0   \n",
       "1   2019 Pedal Mafia Tech bib M        None    1.0    0   0  1  0  0   0    0   \n",
       "2  2018 Castelli training bib M        None    0.0    0   0  0  0  0   0    0   \n",
       "3      2018 Castelli aero bib M        None    2.0    0   0  1  0  0   0    1   \n",
       "\n",
       "   XXXL gender  MTB  retail_price  team_price  team_discount  not4sale  \\\n",
       "0     0   male    0         130.0        72.0              1         0   \n",
       "1     0   male    0         140.0       105.0              1         0   \n",
       "2     0   male    0         130.0        79.0              1         0   \n",
       "3     0   male    0         140.0       110.0              1         0   \n",
       "\n",
       "  item_type  en_route  itemID  \n",
       "0      bibs         1       8  \n",
       "1      bibs         1       9  \n",
       "2      bibs         0      19  \n",
       "3      bibs         0      20  "
      ]
     },
     "execution_count": 16,
     "metadata": {},
     "output_type": "execute_result"
    }
   ],
   "source": [
    "pd.read_sql(\"SELECT * FROM assets WHERE (gender=='male') & (item_type='bibs')\", conn)"
   ]
  },
  {
   "cell_type": "code",
   "execution_count": 17,
   "metadata": {},
   "outputs": [
    {
     "data": {
      "text/html": [
       "<div>\n",
       "<style scoped>\n",
       "    .dataframe tbody tr th:only-of-type {\n",
       "        vertical-align: middle;\n",
       "    }\n",
       "\n",
       "    .dataframe tbody tr th {\n",
       "        vertical-align: top;\n",
       "    }\n",
       "\n",
       "    .dataframe thead th {\n",
       "        text-align: right;\n",
       "    }\n",
       "</style>\n",
       "<table border=\"1\" class=\"dataframe\">\n",
       "  <thead>\n",
       "    <tr style=\"text-align: right;\">\n",
       "      <th></th>\n",
       "      <th>XXS</th>\n",
       "      <th>XS</th>\n",
       "      <th>S</th>\n",
       "      <th>M</th>\n",
       "      <th>L</th>\n",
       "      <th>XL</th>\n",
       "      <th>XXL</th>\n",
       "      <th>XXXL</th>\n",
       "      <th>anySize</th>\n",
       "      <th>itemID</th>\n",
       "      <th>Item</th>\n",
       "    </tr>\n",
       "  </thead>\n",
       "  <tbody>\n",
       "    <tr>\n",
       "      <th>0</th>\n",
       "      <td>0</td>\n",
       "      <td>0</td>\n",
       "      <td>1</td>\n",
       "      <td>0</td>\n",
       "      <td>1</td>\n",
       "      <td>1</td>\n",
       "      <td>1</td>\n",
       "      <td>0</td>\n",
       "      <td>1</td>\n",
       "      <td>4</td>\n",
       "      <td>2019 Pedal Mafia Core Jersey M</td>\n",
       "    </tr>\n",
       "    <tr>\n",
       "      <th>1</th>\n",
       "      <td>0</td>\n",
       "      <td>0</td>\n",
       "      <td>0</td>\n",
       "      <td>1</td>\n",
       "      <td>1</td>\n",
       "      <td>1</td>\n",
       "      <td>0</td>\n",
       "      <td>0</td>\n",
       "      <td>1</td>\n",
       "      <td>5</td>\n",
       "      <td>2019 Pedal Mafia Tech Jersey M</td>\n",
       "    </tr>\n",
       "    <tr>\n",
       "      <th>2</th>\n",
       "      <td>0</td>\n",
       "      <td>0</td>\n",
       "      <td>0</td>\n",
       "      <td>0</td>\n",
       "      <td>1</td>\n",
       "      <td>0</td>\n",
       "      <td>0</td>\n",
       "      <td>0</td>\n",
       "      <td>1</td>\n",
       "      <td>6</td>\n",
       "      <td>2019 Pedal Mafia Core Jersey W</td>\n",
       "    </tr>\n",
       "    <tr>\n",
       "      <th>3</th>\n",
       "      <td>0</td>\n",
       "      <td>0</td>\n",
       "      <td>0</td>\n",
       "      <td>0</td>\n",
       "      <td>1</td>\n",
       "      <td>1</td>\n",
       "      <td>1</td>\n",
       "      <td>0</td>\n",
       "      <td>1</td>\n",
       "      <td>8</td>\n",
       "      <td>2019 Pedal Mafia Core bib M</td>\n",
       "    </tr>\n",
       "    <tr>\n",
       "      <th>4</th>\n",
       "      <td>0</td>\n",
       "      <td>0</td>\n",
       "      <td>0</td>\n",
       "      <td>0</td>\n",
       "      <td>2</td>\n",
       "      <td>1</td>\n",
       "      <td>0</td>\n",
       "      <td>0</td>\n",
       "      <td>1</td>\n",
       "      <td>9</td>\n",
       "      <td>2019 Pedal Mafia Tech bib M</td>\n",
       "    </tr>\n",
       "    <tr>\n",
       "      <th>5</th>\n",
       "      <td>0</td>\n",
       "      <td>0</td>\n",
       "      <td>1</td>\n",
       "      <td>1</td>\n",
       "      <td>1</td>\n",
       "      <td>0</td>\n",
       "      <td>0</td>\n",
       "      <td>0</td>\n",
       "      <td>1</td>\n",
       "      <td>11</td>\n",
       "      <td>2019 Pedal Mafia MTB Jersey unisex</td>\n",
       "    </tr>\n",
       "  </tbody>\n",
       "</table>\n",
       "</div>"
      ],
      "text/plain": [
       "   XXS  XS  S  M  L  XL  XXL  XXXL  anySize  itemID  \\\n",
       "0    0   0  1  0  1   1    1     0        1       4   \n",
       "1    0   0  0  1  1   1    0     0        1       5   \n",
       "2    0   0  0  0  1   0    0     0        1       6   \n",
       "3    0   0  0  0  1   1    1     0        1       8   \n",
       "4    0   0  0  0  2   1    0     0        1       9   \n",
       "5    0   0  1  1  1   0    0     0        1      11   \n",
       "\n",
       "                                 Item  \n",
       "0      2019 Pedal Mafia Core Jersey M  \n",
       "1      2019 Pedal Mafia Tech Jersey M  \n",
       "2      2019 Pedal Mafia Core Jersey W  \n",
       "3         2019 Pedal Mafia Core bib M  \n",
       "4         2019 Pedal Mafia Tech bib M  \n",
       "5  2019 Pedal Mafia MTB Jersey unisex  "
      ]
     },
     "execution_count": 17,
     "metadata": {},
     "output_type": "execute_result"
    }
   ],
   "source": [
    "pd.read_sql('SELECT * FROM enRoute', conn)"
   ]
  },
  {
   "cell_type": "markdown",
   "metadata": {},
   "source": [
    "# Create sales table"
   ]
  },
  {
   "cell_type": "code",
   "execution_count": 18,
   "metadata": {},
   "outputs": [],
   "source": [
    "out  = pd.read_sql(\"PRAGMA table_info(assets);\",conn)"
   ]
  },
  {
   "cell_type": "code",
   "execution_count": 19,
   "metadata": {},
   "outputs": [],
   "source": [
    "out.set_index('name',inplace=True)"
   ]
  },
  {
   "cell_type": "code",
   "execution_count": 20,
   "metadata": {},
   "outputs": [],
   "source": [
    "numericFields = ['XXS','XS','S','M','L','XL','XXL','XXXL','retail_price','team_price']\n",
    "fields = numericFields + ['itemID','Item','count']"
   ]
  },
  {
   "cell_type": "code",
   "execution_count": 21,
   "metadata": {},
   "outputs": [
    {
     "data": {
      "text/plain": [
       "'XXS INTEGER,XS INTEGER,S INTEGER,M INTEGER,L INTEGER,XL INTEGER,XXL INTEGER,XXXL INTEGER,retail_price REAL,team_price REAL,itemID INTEGER,Item TEXT,count REAL'"
      ]
     },
     "execution_count": 21,
     "metadata": {},
     "output_type": "execute_result"
    }
   ],
   "source": [
    "\",\".join([\"%s %s\" %(f,t) for f,t in zip(fields,out.loc[fields].type)])"
   ]
  },
  {
   "cell_type": "code",
   "execution_count": 22,
   "metadata": {},
   "outputs": [
    {
     "data": {
      "text/plain": [
       "'CREATE TABLE sales (XXS INTEGER,XS INTEGER,S INTEGER,M INTEGER,L INTEGER,XL INTEGER,XXL INTEGER,XXXL INTEGER,retail_price REAL,team_price REAL,itemID INTEGER,Item TEXT,count REAL, date TEXT);'"
      ]
     },
     "execution_count": 22,
     "metadata": {},
     "output_type": "execute_result"
    }
   ],
   "source": [
    "fields = \",\".join([\"%s %s\" %(f,t) for f,t in zip(fields,out.loc[fields].type)])\n",
    "fields = fields + \", date TEXT\"\n",
    "query = \"CREATE TABLE sales (%s);\" %fields\n",
    "query"
   ]
  },
  {
   "cell_type": "code",
   "execution_count": 23,
   "metadata": {},
   "outputs": [
    {
     "data": {
      "text/plain": [
       "<sqlite3.Cursor at 0x1c7a35d8260>"
      ]
     },
     "execution_count": 23,
     "metadata": {},
     "output_type": "execute_result"
    }
   ],
   "source": [
    "c = conn.cursor()\n",
    "c.execute(query)"
   ]
  },
  {
   "cell_type": "code",
   "execution_count": 24,
   "metadata": {},
   "outputs": [
    {
     "data": {
      "text/html": [
       "<div>\n",
       "<style scoped>\n",
       "    .dataframe tbody tr th:only-of-type {\n",
       "        vertical-align: middle;\n",
       "    }\n",
       "\n",
       "    .dataframe tbody tr th {\n",
       "        vertical-align: top;\n",
       "    }\n",
       "\n",
       "    .dataframe thead th {\n",
       "        text-align: right;\n",
       "    }\n",
       "</style>\n",
       "<table border=\"1\" class=\"dataframe\">\n",
       "  <thead>\n",
       "    <tr style=\"text-align: right;\">\n",
       "      <th></th>\n",
       "      <th>XXS</th>\n",
       "      <th>XS</th>\n",
       "      <th>S</th>\n",
       "      <th>M</th>\n",
       "      <th>L</th>\n",
       "      <th>XL</th>\n",
       "      <th>XXL</th>\n",
       "      <th>XXXL</th>\n",
       "      <th>retail_price</th>\n",
       "      <th>team_price</th>\n",
       "      <th>itemID</th>\n",
       "      <th>Item</th>\n",
       "      <th>count</th>\n",
       "      <th>date</th>\n",
       "    </tr>\n",
       "  </thead>\n",
       "  <tbody>\n",
       "  </tbody>\n",
       "</table>\n",
       "</div>"
      ],
      "text/plain": [
       "Empty DataFrame\n",
       "Columns: [XXS, XS, S, M, L, XL, XXL, XXXL, retail_price, team_price, itemID, Item, count, date]\n",
       "Index: []"
      ]
     },
     "execution_count": 24,
     "metadata": {},
     "output_type": "execute_result"
    }
   ],
   "source": [
    "pd.read_sql('SELECT * FROM sales', conn)"
   ]
  },
  {
   "cell_type": "code",
   "execution_count": 25,
   "metadata": {},
   "outputs": [],
   "source": [
    "conn.close()"
   ]
  },
  {
   "cell_type": "code",
   "execution_count": null,
   "metadata": {},
   "outputs": [],
   "source": []
  }
 ],
 "metadata": {
  "kernelspec": {
   "display_name": "Python 3",
   "language": "python",
   "name": "python3"
  },
  "language_info": {
   "codemirror_mode": {
    "name": "ipython",
    "version": 3
   },
   "file_extension": ".py",
   "mimetype": "text/x-python",
   "name": "python",
   "nbconvert_exporter": "python",
   "pygments_lexer": "ipython3",
   "version": "3.7.6"
  }
 },
 "nbformat": 4,
 "nbformat_minor": 4
}
