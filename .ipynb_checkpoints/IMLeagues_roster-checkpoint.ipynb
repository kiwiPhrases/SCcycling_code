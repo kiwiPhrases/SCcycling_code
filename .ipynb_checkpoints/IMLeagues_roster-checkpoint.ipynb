{
 "cells": [
  {
   "cell_type": "markdown",
   "metadata": {},
   "source": [
    "# IMLeagues Roster Scraper\n",
    "\n",
    "IMLeagues does not provide a convenient way to download the names and e-mails of one's club. The code below is intended to help you download the roster without having to manually copy/paste names and emails. \n",
    "\n",
    "## To Use\n",
    "\n",
    "Navigate to your Club's roster, click on \"printable view\", right-click, and Save-As the website into a convenient folder. \n",
    "\n",
    "\n",
    "Change the `data_path` to the path where you saved the website. \n",
    "\n",
    "Run the code. \n",
    "\n",
    "The code will save your roster as a CSV file in the directory where you saved the website. "
   ]
  },
  {
   "cell_type": "code",
   "execution_count": 2,
   "metadata": {},
   "outputs": [],
   "source": [
    "from bs4 import BeautifulSoup as bs\n",
    "#import requests \n",
    "import pandas as pd\n",
    "\n",
    "data_path = 'C:/Users/SpiffyApple/Documents/USC/Clubs/Cycling'"
   ]
  },
  {
   "cell_type": "code",
   "execution_count": 48,
   "metadata": {},
   "outputs": [],
   "source": [
    "# fetch downloaded website backend\n",
    "#with open(\"/\".join([data_path, 'imleagues_roster.html'])) as f:\n",
    "#    page = f.read()\n",
    "\n",
    "with open(\"/\".join([data_path, 'printablerosters.html'])) as f:\n",
    "    page = f.read()"
   ]
  },
  {
   "cell_type": "code",
   "execution_count": 49,
   "metadata": {},
   "outputs": [
    {
     "data": {
      "text/plain": [
       "str"
      ]
     },
     "execution_count": 49,
     "metadata": {},
     "output_type": "execute_result"
    }
   ],
   "source": [
    "type(page)"
   ]
  },
  {
   "cell_type": "code",
   "execution_count": 50,
   "metadata": {},
   "outputs": [],
   "source": [
    "# turn to soup\n",
    "soup = bs(page,'html.parser')"
   ]
  },
  {
   "cell_type": "code",
   "execution_count": 66,
   "metadata": {},
   "outputs": [],
   "source": [
    "# find names and emails\n",
    "datdict = {}\n",
    "datdict['names'] = [s.text for s in  soup.find_all(id = re.compile(\"Name\")) if 'University of Southern California' not in s.text]\n",
    "datdict['emails'] = [b.text for b in soup.find_all('td') if ('email' in b.text.lower()) & ('\\n' not in b.text)]"
   ]
  },
  {
   "cell_type": "code",
   "execution_count": 67,
   "metadata": {},
   "outputs": [
    {
     "data": {
      "text/plain": [
       "28"
      ]
     },
     "execution_count": 67,
     "metadata": {},
     "output_type": "execute_result"
    }
   ],
   "source": [
    "len(datdict['emails'])"
   ]
  },
  {
   "cell_type": "code",
   "execution_count": 79,
   "metadata": {},
   "outputs": [
    {
     "name": "stdout",
     "output_type": "stream",
     "text": [
      "Are fields of equal length? True\n"
     ]
    }
   ],
   "source": [
    "print(\"Are fields of equal length? %s\" %(len(datdict['names']) == len(datdict['emails'])))"
   ]
  },
  {
   "cell_type": "code",
   "execution_count": 76,
   "metadata": {},
   "outputs": [],
   "source": [
    "df = pd.DataFrame(datdict)\n",
    "df.loc[:,'emails'] = df.emails.str.replace(\"Email\\:\",'')\n",
    "df.loc[:,'names'] =df.names.str.replace(\"\\(Forms\\)\", '')\n",
    "df.to_csv(\"/\".join([data_path, 'IMLeagues_roster.csv']))"
   ]
  }
 ],
 "metadata": {
  "kernelspec": {
   "display_name": "Python 3",
   "language": "python",
   "name": "python3"
  },
  "language_info": {
   "codemirror_mode": {
    "name": "ipython",
    "version": 3
   },
   "file_extension": ".py",
   "mimetype": "text/x-python",
   "name": "python",
   "nbconvert_exporter": "python",
   "pygments_lexer": "ipython3",
   "version": "3.7.6"
  }
 },
 "nbformat": 4,
 "nbformat_minor": 4
}
